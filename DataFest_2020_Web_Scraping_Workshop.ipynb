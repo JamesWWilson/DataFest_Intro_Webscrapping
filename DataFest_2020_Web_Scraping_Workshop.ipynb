{
 "cells": [
  {
   "cell_type": "markdown",
   "metadata": {},
   "source": [
    "## Intro to Web Scraping with Python\n"
   ]
  },
  {
   "cell_type": "markdown",
   "metadata": {},
   "source": [
    "### 0. Set Up "
   ]
  },
  {
   "cell_type": "code",
   "execution_count": 1,
   "metadata": {},
   "outputs": [],
   "source": [
    "# -*- coding: utf-8 -*-\n",
    "from bs4 import BeautifulSoup  #main webscraping package \n",
    "import requests # allows you to send https requests \n",
    "import pandas as pd # for manipulating data into data frames \n",
    "import re # regular expressions package "
   ]
  },
  {
   "cell_type": "markdown",
   "metadata": {},
   "source": [
    "Example) Jeopardy Archive Website :  https://j-archive.com/"
   ]
  },
  {
   "cell_type": "markdown",
   "metadata": {},
   "source": [
    "### 1) Capture and review webpage"
   ]
  },
  {
   "cell_type": "code",
   "execution_count": 2,
   "metadata": {},
   "outputs": [],
   "source": [
    "# Set Practice Link\n",
    "jeopardy_archive_link = \"http://www.j-archive.com/showgame.php?game_id=6623\"\n",
    "# Get the requested page \n",
    "page_response = requests.get(jeopardy_archive_link)"
   ]
  },
  {
   "cell_type": "code",
   "execution_count": 3,
   "metadata": {},
   "outputs": [
    {
     "data": {
      "text/plain": [
       "<Response [200]>"
      ]
     },
     "execution_count": 3,
     "metadata": {},
     "output_type": "execute_result"
    }
   ],
   "source": [
    "page_response"
   ]
  },
  {
   "cell_type": "code",
   "execution_count": 4,
   "metadata": {},
   "outputs": [
    {
     "data": {
      "text/plain": [
       "200"
      ]
     },
     "execution_count": 4,
     "metadata": {},
     "output_type": "execute_result"
    }
   ],
   "source": [
    "# review response \n",
    "page_response.status_code\n",
    "\n",
    "# What do these codes mean ?  See here: https://www.restapitutorial.com/httpstatuscodes.html\n",
    "# 200 = Success! \n",
    "# 400 = Client Error \n",
    "\n",
    "# page_response.raise_for_status()"
   ]
  },
  {
   "cell_type": "code",
   "execution_count": 5,
   "metadata": {},
   "outputs": [],
   "source": [
    "# extract content \n",
    "page_content = BeautifulSoup(page_response.content, \"html.parser\")\n",
    "#page_content"
   ]
  },
  {
   "cell_type": "code",
   "execution_count": 6,
   "metadata": {},
   "outputs": [],
   "source": [
    "# use prettify to make output more readable \n",
    "#print(page_content.prettify())"
   ]
  },
  {
   "cell_type": "markdown",
   "metadata": {},
   "source": [
    "### 2) Review main web components "
   ]
  },
  {
   "cell_type": "code",
   "execution_count": 7,
   "metadata": {},
   "outputs": [
    {
     "data": {
      "text/plain": [
       "[<title>J! Archive - Show #8215, aired 2020-05-01</title>]"
      ]
     },
     "execution_count": 7,
     "metadata": {},
     "output_type": "execute_result"
    }
   ],
   "source": [
    "# Review title contents \n",
    "page_content.find_all('title')"
   ]
  },
  {
   "cell_type": "code",
   "execution_count": 8,
   "metadata": {},
   "outputs": [
    {
     "data": {
      "text/plain": [
       "[<div id=\"game_title\"><h1>Show #8215 - Friday, May 1, 2020</h1></div>]"
      ]
     },
     "execution_count": 8,
     "metadata": {},
     "output_type": "execute_result"
    }
   ],
   "source": [
    "# Also use the id feature to pull out these items \n",
    "page_content.find_all(id = 'game_title')"
   ]
  },
  {
   "cell_type": "code",
   "execution_count": 9,
   "metadata": {},
   "outputs": [
    {
     "data": {
      "text/plain": [
       "[<p class=\"contestants\"><a href=\"http://www.j-archive.com/showplayer.php?player_id=13288\" rel=\"external\">Quemars Ahmed</a>, a field organizer from La CaÃ±ada Flintridge, California</p>,\n",
       " <p class=\"contestants\"><a href=\"http://www.j-archive.com/showplayer.php?player_id=13289\" rel=\"external\">Ashleigh McCord</a>, a marine resource management specialist from Beverly, Massachusetts</p>,\n",
       " <p class=\"contestants\"><a href=\"http://www.j-archive.com/showplayer.php?player_id=13286\" rel=\"external\">Jesse Laymon</a>, a public policy director from Long Island City, New York (whose 1-day cash winnings total $13,000)</p>,\n",
       " <p><a href=\"wageringcalculator.php?a=15400&amp;b=15000&amp;c=10600&amp;player_a=Jesse&amp;player_b=Quemars&amp;player_c=Ashleigh\">[wagering suggestions for these scores]</a></p>]"
      ]
     },
     "execution_count": 9,
     "metadata": {},
     "output_type": "execute_result"
    }
   ],
   "source": [
    "# Review paragraph contents \n",
    "page_content.find_all(\"p\")"
   ]
  },
  {
   "cell_type": "code",
   "execution_count": 10,
   "metadata": {},
   "outputs": [
    {
     "data": {
      "text/plain": [
       "[<p class=\"contestants\"><a href=\"http://www.j-archive.com/showplayer.php?player_id=13288\" rel=\"external\">Quemars Ahmed</a>, a field organizer from La CaÃ±ada Flintridge, California</p>,\n",
       " <p class=\"contestants\"><a href=\"http://www.j-archive.com/showplayer.php?player_id=13289\" rel=\"external\">Ashleigh McCord</a>, a marine resource management specialist from Beverly, Massachusetts</p>,\n",
       " <p class=\"contestants\"><a href=\"http://www.j-archive.com/showplayer.php?player_id=13286\" rel=\"external\">Jesse Laymon</a>, a public policy director from Long Island City, New York (whose 1-day cash winnings total $13,000)</p>]"
      ]
     },
     "execution_count": 10,
     "metadata": {},
     "output_type": "execute_result"
    }
   ],
   "source": [
    "# can specify on the class of the page content\n",
    "page_content.find_all(\"p\", class_ = 'contestants') "
   ]
  },
  {
   "cell_type": "code",
   "execution_count": 11,
   "metadata": {},
   "outputs": [],
   "source": [
    "# Review table contents \n",
    "elems = page_content.find_all(lambda tag: tag.name == 'td')\n",
    "\n",
    "# Another way to view this unstructured data \n",
    "#for elem in elems:\n",
    "#    print(elem, end='\\n'*2)\n"
   ]
  },
  {
   "cell_type": "code",
   "execution_count": 12,
   "metadata": {},
   "outputs": [
    {
     "data": {
      "text/plain": [
       "[<td class=\"score_positive\">$5,600</td>,\n",
       " <td class=\"score_positive\">$200</td>,\n",
       " <td class=\"score_positive\">$9,400</td>,\n",
       " <td class=\"score_positive\">$3,400</td>,\n",
       " <td class=\"score_positive\">$15,400</td>,\n",
       " <td class=\"score_positive\">$10,600</td>,\n",
       " <td class=\"score_positive\">$15,000</td>,\n",
       " <td class=\"score_positive\">$30,400</td>,\n",
       " <td class=\"score_positive\">$8,800</td>,\n",
       " <td class=\"score_positive\">$0</td>,\n",
       " <td class=\"score_positive\">$14,400</td>,\n",
       " <td class=\"score_positive\">$10,600</td>,\n",
       " <td class=\"score_positive\">$13,400</td>]"
      ]
     },
     "execution_count": 12,
     "metadata": {},
     "output_type": "execute_result"
    }
   ],
   "source": [
    "# just review scores \n",
    "page_content.find_all(lambda tag: tag.get('class') == ['score_positive'])"
   ]
  },
  {
   "cell_type": "markdown",
   "metadata": {},
   "source": [
    "### 3) Find next page link "
   ]
  },
  {
   "cell_type": "code",
   "execution_count": 13,
   "metadata": {},
   "outputs": [
    {
     "data": {
      "text/plain": [
       "[<a href=\"http://www.j-archive.com\"><img alt=\"J! Archive\" height=\"22\" src=\"http://www.j-archive.com/j-a.gif\" width=\"100\"/></a>,\n",
       " <a href=\"http://www.j-archive.com/showseason.php?season=36\">[current season]</a>,\n",
       " <a href=\"http://www.j-archive.com/showseason.php?season=35\">[last season]</a>,\n",
       " <a href=\"http://www.j-archive.com/listseasons.php\">[all seasons]</a>,\n",
       " <a href=\"http://www.j-archive.com/listprizes.php\">[prizes]</a>,\n",
       " <a href=\"http://www.j-archive.com/wageringcalculator.php\">[wagering calculator]</a>,\n",
       " <a href=\"http://www.j-archive.com/help.php\">[help]</a>,\n",
       " <a href=\"showgame.php?game_id=6622\">[&lt;&lt; previous game]</a>,\n",
       " <a href=\"http://www.j-archive.com/showplayer.php?player_id=13288\" rel=\"external\">Quemars Ahmed</a>,\n",
       " <a href=\"http://www.j-archive.com/showplayer.php?player_id=13289\" rel=\"external\">Ashleigh McCord</a>,\n",
       " <a href=\"http://www.j-archive.com/showplayer.php?player_id=13286\" rel=\"external\">Jesse Laymon</a>,\n",
       " <a href=\"suggestcorrection.php?clue_id=384793\" rel=\"nofollow\" title=\"Suggest a correction for this clue\">30</a>,\n",
       " <a href=\"suggestcorrection.php?clue_id=384774\" rel=\"nofollow\" title=\"Suggest a correction for this clue\">9</a>,\n",
       " <a href=\"suggestcorrection.php?clue_id=384794\" rel=\"nofollow\" title=\"Suggest a correction for this clue\">29</a>,\n",
       " <a href=\"suggestcorrection.php?clue_id=384777\" rel=\"nofollow\" title=\"Suggest a correction for this clue\">10</a>,\n",
       " <a href=\"suggestcorrection.php?clue_id=384785\" rel=\"nofollow\" title=\"Suggest a correction for this clue\">19</a>,\n",
       " <a href=\"suggestcorrection.php?clue_id=384787\" rel=\"nofollow\" title=\"Suggest a correction for this clue\">20</a>,\n",
       " <a href=\"suggestcorrection.php?clue_id=384768\" rel=\"nofollow\" title=\"Suggest a correction for this clue\">3</a>,\n",
       " <a href=\"suggestcorrection.php?clue_id=384775\" rel=\"nofollow\" title=\"Suggest a correction for this clue\">8</a>,\n",
       " <a href=\"suggestcorrection.php?clue_id=384795\" rel=\"nofollow\" title=\"Suggest a correction for this clue\">28</a>]"
      ]
     },
     "execution_count": 13,
     "metadata": {},
     "output_type": "execute_result"
    }
   ],
   "source": [
    "# Review hyperlinks <a> tags \n",
    "page_content.find_all(lambda tag: tag.name == 'a')[0:20]"
   ]
  },
  {
   "cell_type": "code",
   "execution_count": 14,
   "metadata": {},
   "outputs": [
    {
     "data": {
      "text/plain": [
       "[<a href=\"showgame.php?game_id=6622\">[&lt;&lt; previous game]</a>]"
      ]
     },
     "execution_count": 14,
     "metadata": {},
     "output_type": "execute_result"
    }
   ],
   "source": [
    "# Can specify on the text of the page contents \n",
    "    # <a href=\"showgame.php?game_id=6158\">[&lt;&lt; previous game]</a>\n",
    "page_content.find_all(lambda tag: tag.name == 'a' and tag.text == \"[<< previous game]\")\n"
   ]
  },
  {
   "cell_type": "code",
   "execution_count": 15,
   "metadata": {},
   "outputs": [
    {
     "name": "stdout",
     "output_type": "stream",
     "text": [
      "[<a href=\"showgame.php?game_id=6622\">[&lt;&lt; previous game]</a>]\n"
     ]
    }
   ],
   "source": [
    "new_game_link = page_content.find_all(lambda tag: tag.name == 'a' and \n",
    "                                                    tag.get('href') and \n",
    "                                                    tag.text == \"[<< previous game]\")\n",
    "print(new_game_link)"
   ]
  },
  {
   "cell_type": "code",
   "execution_count": 16,
   "metadata": {},
   "outputs": [
    {
     "data": {
      "text/plain": [
       "'6622'"
      ]
     },
     "execution_count": 16,
     "metadata": {},
     "output_type": "execute_result"
    }
   ],
   "source": [
    "#[<a href=\"showgame.php?game_id=6388\">[&lt;&lt; previous game]</a>]\n",
    "# WE WANT THE GAME ID ----------^^^^\n",
    "\n",
    "# USE REGEX TO CAPTURE JUST DIGITS, and extract to a string variable [0]\n",
    "re.findall(r'\\d+', str(new_game_link[0]))[0] \n"
   ]
  },
  {
   "cell_type": "code",
   "execution_count": 17,
   "metadata": {},
   "outputs": [
    {
     "data": {
      "text/plain": [
       "'http://www.j-archive.com/showgame.php?game_id=6622'"
      ]
     },
     "execution_count": 17,
     "metadata": {},
     "output_type": "execute_result"
    }
   ],
   "source": [
    "new_game_id = re.findall(r'\\d+', str(new_game_link[0]))[0]\n",
    "\n",
    "# create next page link \n",
    "updated_jeopardy_archive_link = \"http://www.j-archive.com/showgame.php?game_id=\" + str(new_game_id)\n",
    "updated_jeopardy_archive_link"
   ]
  },
  {
   "cell_type": "markdown",
   "metadata": {},
   "source": [
    "### Full Web Scraping Process\n",
    "Start with a recent game and move backwards through time ( Game ID 6623 OR 6389 )\n",
    "http://www.j-archive.com/showgame.php?game_id=6623"
   ]
  },
  {
   "cell_type": "code",
   "execution_count": 18,
   "metadata": {},
   "outputs": [],
   "source": [
    "# Initialize Variables \n",
    "index = 0\n",
    "output = []\n",
    "archive_link = \"http://www.j-archive.com/showgame.php?game_id=\"\n",
    "game_id = 6389\n",
    "new_game_id = 0\n",
    "jeopardy_archive_link = archive_link + str(game_id)"
   ]
  },
  {
   "cell_type": "code",
   "execution_count": 19,
   "metadata": {},
   "outputs": [
    {
     "ename": "IndentationError",
     "evalue": "expected an indented block (<ipython-input-19-b7d74b1210ca>, line 51)",
     "output_type": "error",
     "traceback": [
      "\u001b[1;36m  File \u001b[1;32m\"<ipython-input-19-b7d74b1210ca>\"\u001b[1;36m, line \u001b[1;32m51\u001b[0m\n\u001b[1;33m    table2 = page_content.find_all(lambda tag: tag.name == 'td' and\u001b[0m\n\u001b[1;37m         ^\u001b[0m\n\u001b[1;31mIndentationError\u001b[0m\u001b[1;31m:\u001b[0m expected an indented block\n"
     ]
    }
   ],
   "source": [
    "## Main Web Scraper  \n",
    "error_catalog = []\n",
    "\n",
    "#start extraction \n",
    "while index < 300:\n",
    "    # pull page\n",
    "    page_response = requests.get(jeopardy_archive_link, timeout=5) # get page, timeout set to 5 seconds \n",
    "    \n",
    "    # confirm no error with pull \n",
    "    try: \n",
    "        page_response.raise_for_status()\n",
    "        pass\n",
    "    except:\n",
    "        print(\"HTML ERROR CODE: \" + str(page_response.status_code))\n",
    "    \n",
    "    page_content = BeautifulSoup(page_response.content, \"html.parser\")\n",
    "    \n",
    "    # create empty variables to fill \n",
    "    anecdotes = []\n",
    "    final_scores = []\n",
    "    names = []\n",
    "    show_info1 = []\n",
    "    show_info2 = []\n",
    "    show_info3 = []\n",
    "    \n",
    "    #title date \n",
    "    title_date = page_content.find_all('title')[0].text # clean to just date (?)\n",
    "    \n",
    "    # iterate through three contestants\n",
    "    for j in range(0, 3):\n",
    "        #Find all anecdotes for contestants \n",
    "        paragraphs = page_content.find_all(\"p\")[j].text\n",
    "        \n",
    "        # Final all final scores for contestants \n",
    "        try:\n",
    "            table1 = page_content.find_all(lambda tag: tag.name == 'td' and \n",
    "                                           \n",
    "                                           (tag.get('class') == ['score_positive'] \n",
    "                                            or\n",
    "                                            tag.get('class') == ['score_negative'] # some scores can be negative!! See 5913\n",
    "                                           )\n",
    "                                          )[9:12][j].text\n",
    "            pass\n",
    "        \n",
    "        except IndexError:\n",
    "            print(\"Error 1 @ Game ID:\" + str(new_game_id)) # error output - used to locate mismatched fields \n",
    "            error_catalog.append(jeopardy_archive_link)  # store links from archive (typically special events)\n",
    "        \n",
    "        #extract player names and remarks \n",
    "        try:\n",
    "        table2 = page_content.find_all(lambda tag: tag.name == 'td' and \n",
    "                                   tag.get('class') == ['score_player_nickname'])[j].text\n",
    "            pass\n",
    "        \n",
    "        except IndexError:\n",
    "            print(\"Error 2 @ Game ID:\" + str(new_game_id)) # error output - used to locate mismatched fields \n",
    "            error_catalog.append(jeopardy_archive_link)  # store links from archive (typically special events)\n",
    "        \n",
    "        try:\n",
    "        table3 = page_content.find_all(lambda tag: tag.name == 'td' and \n",
    "                                   tag.get('class') == ['score_remarks'])[j].text\n",
    "            pass\n",
    "        \n",
    "        except IndexError:\n",
    "            print(\"Error 3 @ Game ID:\" + str(new_game_id)) # error output - used to locate mismatched fields \n",
    "            error_catalog.append(jeopardy_archive_link)  # store links from archive (typically special events)\n",
    "        \n",
    "        \n",
    "        #append these player details together\n",
    "        anecdotes.append(paragraphs)\n",
    "        final_scores.append(table1)\n",
    "        names.append(table2)\n",
    "\n",
    "    # reorder and correct data (anecdotes go 2 1 0 / names and scores go 0 1 2 )\n",
    "    show_info1.extend([names[0],anecdotes[2],final_scores[0],title_date])\n",
    "    show_info2.extend([names[1],anecdotes[1],final_scores[1],title_date])\n",
    "    show_info3.extend([names[2],anecdotes[0],final_scores[2],title_date])\n",
    "    \n",
    "    #add to final output file\n",
    "    output.append(show_info1)\n",
    "    output.append(show_info2)\n",
    "    output.append(show_info3)\n",
    "    \n",
    "    #create link to next page\n",
    "    #create previous page number\n",
    "    new_game_id = page_content.find_all(lambda tag: tag.name == 'a' and \n",
    "                                                    tag.get('href') and \n",
    "                                                    tag.text == \"[<< previous game]\")\n",
    "        #print(new_game_id)\n",
    "        #[<a href=\"showgame.php?game_id=6388\">[&lt;&lt; previous game]</a>]\n",
    "        # WE WANT THE GAME ID ----------^^^^\n",
    "\n",
    "    new_game_id = re.findall(r'\\d+', str(new_game_id[0]))[0] # USE REGEX TO CAPTURE JUST DIGITS \n",
    "\n",
    "    # create next page link \n",
    "    jeopardy_archive_link = archive_link + new_game_id\n",
    "    jeopardy_archive_link\n",
    "    \n",
    "    #update iterator \n",
    "    index = index + 1 \n"
   ]
  },
  {
   "cell_type": "code",
   "execution_count": null,
   "metadata": {},
   "outputs": [],
   "source": [
    "error_catalog"
   ]
  },
  {
   "cell_type": "code",
   "execution_count": null,
   "metadata": {},
   "outputs": [],
   "source": [
    "#Convert output to a dataframe and prepare for initial cleaning \n",
    "archive = pd.DataFrame.from_records(output)\n",
    "archive.columns = [\"nickname\", \"player_details\", \"final_score\", \"show_info\"]\n",
    "\n",
    "# Initialize Field Name\n",
    "archive[\"full_name\"] = \"\"\n",
    "archive[\"occupation\"] = \"\"\n",
    "archive[\"hometown\"] = \"\"\n",
    "archive[\"archive_info\"] = \"\"\n",
    "archive[\"date\"] = \"\""
   ]
  },
  {
   "cell_type": "code",
   "execution_count": null,
   "metadata": {},
   "outputs": [],
   "source": [
    "archive[\"player_details\"]"
   ]
  },
  {
   "cell_type": "code",
   "execution_count": null,
   "metadata": {},
   "outputs": [],
   "source": [
    "# Take the archive details and split them into usable contents! \n",
    "for i in range(0,len(archive)):\n",
    "    \n",
    "    # extract player details \n",
    "    archive.at[i,\"full_name\"] = archive[\"player_details\"].iloc[i].split(\",\")[0]\n",
    "    archive.at[i,\"occupation\"] = archive[\"player_details\"].iloc[i].split(\",\")[1].split(\"from\")[0].strip()\n",
    "    archive.at[i,\"hometown\"] = archive[\"player_details\"].iloc[i].split(\"from\")[1].split(\"(\")[0].strip()\n",
    "        \n",
    "    # extra show info \n",
    "    archive.at[i,\"archive_info\"] = archive[\"show_info\"].iloc[i].split(\", aired\")[0].strip()\n",
    "    archive.at[i,\"date\"] = archive[\"show_info\"].iloc[i].split(\", aired\")[1].strip()\n"
   ]
  },
  {
   "cell_type": "code",
   "execution_count": null,
   "metadata": {},
   "outputs": [],
   "source": [
    "archive.head(10)"
   ]
  },
  {
   "cell_type": "code",
   "execution_count": null,
   "metadata": {},
   "outputs": [],
   "source": [
    "# Clean date\n",
    "archive['date'].replace(regex=True,inplace=True,to_replace=r':',value=r'')\n",
    "archive['date'] = pd.to_datetime(archive['date'], errors='coerce')\n",
    "archive.head(5)"
   ]
  },
  {
   "cell_type": "code",
   "execution_count": null,
   "metadata": {},
   "outputs": [],
   "source": [
    "# Save your data\n",
    "#archive.to_csv('../Data/jeopardy_archive_data.csv', index = None, header=True) #Don't forget to add '.csv' at the end of the path!"
   ]
  }
 ],
 "metadata": {
  "kernelspec": {
   "display_name": "Python 3",
   "language": "python",
   "name": "python3"
  },
  "language_info": {
   "codemirror_mode": {
    "name": "ipython",
    "version": 3
   },
   "file_extension": ".py",
   "mimetype": "text/x-python",
   "name": "python",
   "nbconvert_exporter": "python",
   "pygments_lexer": "ipython3",
   "version": "3.7.6"
  }
 },
 "nbformat": 4,
 "nbformat_minor": 2
}
