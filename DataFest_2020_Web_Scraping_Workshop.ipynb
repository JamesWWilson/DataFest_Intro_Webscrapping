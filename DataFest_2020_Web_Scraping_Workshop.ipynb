{
 "cells": [
  {
   "cell_type": "markdown",
   "metadata": {},
   "source": [
    "## Intro to Web Scraping with Python\n"
   ]
  },
  {
   "cell_type": "markdown",
   "metadata": {},
   "source": [
    "### 0. Set Up "
   ]
  },
  {
   "cell_type": "code",
   "execution_count": 30,
   "metadata": {},
   "outputs": [],
   "source": [
    "# -*- coding: utf-8 -*-\n",
    "from bs4 import BeautifulSoup  #main webscraping package \n",
    "import requests # allows you to send https requests \n",
    "import pandas as pd # for manipulating data into data frames \n",
    "import re # regular expressions package "
   ]
  },
  {
   "cell_type": "markdown",
   "metadata": {},
   "source": [
    "Example) Jeopardy Archive Website :  https://j-archive.com/"
   ]
  },
  {
   "cell_type": "markdown",
   "metadata": {},
   "source": [
    "### 1) Capture and review webpage"
   ]
  },
  {
   "cell_type": "code",
   "execution_count": 31,
   "metadata": {},
   "outputs": [],
   "source": [
    "# Set Practice Link\n",
    "jeopardy_archive_link = \"http://www.j-archive.com/showgame.php?game_id=6623\"\n",
    "# Get the requested page \n",
    "page_response = requests.get(jeopardy_archive_link)"
   ]
  },
  {
   "cell_type": "code",
   "execution_count": 32,
   "metadata": {},
   "outputs": [
    {
     "data": {
      "text/plain": [
       "<Response [200]>"
      ]
     },
     "execution_count": 32,
     "metadata": {},
     "output_type": "execute_result"
    }
   ],
   "source": [
    "page_response"
   ]
  },
  {
   "cell_type": "code",
   "execution_count": 33,
   "metadata": {},
   "outputs": [
    {
     "data": {
      "text/plain": [
       "200"
      ]
     },
     "execution_count": 33,
     "metadata": {},
     "output_type": "execute_result"
    }
   ],
   "source": [
    "# review response \n",
    "page_response.status_code\n",
    "\n",
    "# What do these codes mean ?  See here: https://www.restapitutorial.com/httpstatuscodes.html\n",
    "# 200 = Success! \n",
    "# 400 = Client Error \n",
    "\n",
    "# page_response.raise_for_status()"
   ]
  },
  {
   "cell_type": "code",
   "execution_count": 34,
   "metadata": {},
   "outputs": [],
   "source": [
    "# extract content \n",
    "page_content = BeautifulSoup(page_response.content, \"html.parser\")\n",
    "#page_content"
   ]
  },
  {
   "cell_type": "code",
   "execution_count": 35,
   "metadata": {},
   "outputs": [],
   "source": [
    "# use prettify to make output more readable \n",
    "#print(page_content.prettify())"
   ]
  },
  {
   "cell_type": "markdown",
   "metadata": {},
   "source": [
    "### 2) Review main web components "
   ]
  },
  {
   "cell_type": "code",
   "execution_count": 36,
   "metadata": {},
   "outputs": [
    {
     "data": {
      "text/plain": [
       "[<title>J! Archive - Show #8215, aired 2020-05-01</title>]"
      ]
     },
     "execution_count": 36,
     "metadata": {},
     "output_type": "execute_result"
    }
   ],
   "source": [
    "# Review title contents \n",
    "page_content.find_all('title')"
   ]
  },
  {
   "cell_type": "code",
   "execution_count": 37,
   "metadata": {},
   "outputs": [
    {
     "data": {
      "text/plain": [
       "[<div id=\"game_title\"><h1>Show #8215 - Friday, May 1, 2020</h1></div>]"
      ]
     },
     "execution_count": 37,
     "metadata": {},
     "output_type": "execute_result"
    }
   ],
   "source": [
    "# Also use the id feature to pull out these items \n",
    "page_content.find_all(id = 'game_title')"
   ]
  },
  {
   "cell_type": "code",
   "execution_count": 38,
   "metadata": {},
   "outputs": [
    {
     "data": {
      "text/plain": [
       "[<p class=\"contestants\"><a href=\"http://www.j-archive.com/showplayer.php?player_id=13288\" rel=\"external\">Quemars Ahmed</a>, a field organizer from La CaÃ±ada Flintridge, California</p>,\n",
       " <p class=\"contestants\"><a href=\"http://www.j-archive.com/showplayer.php?player_id=13289\" rel=\"external\">Ashleigh McCord</a>, a marine resource management specialist from Beverly, Massachusetts</p>,\n",
       " <p class=\"contestants\"><a href=\"http://www.j-archive.com/showplayer.php?player_id=13286\" rel=\"external\">Jesse Laymon</a>, a public policy director from Long Island City, New York (whose 1-day cash winnings total $13,000)</p>,\n",
       " <p><a href=\"wageringcalculator.php?a=15400&amp;b=15000&amp;c=10600&amp;player_a=Jesse&amp;player_b=Quemars&amp;player_c=Ashleigh\">[wagering suggestions for these scores]</a></p>]"
      ]
     },
     "execution_count": 38,
     "metadata": {},
     "output_type": "execute_result"
    }
   ],
   "source": [
    "# Review paragraph contents \n",
    "page_content.find_all(\"p\")"
   ]
  },
  {
   "cell_type": "code",
   "execution_count": 39,
   "metadata": {},
   "outputs": [
    {
     "data": {
      "text/plain": [
       "[<p class=\"contestants\"><a href=\"http://www.j-archive.com/showplayer.php?player_id=13288\" rel=\"external\">Quemars Ahmed</a>, a field organizer from La CaÃ±ada Flintridge, California</p>,\n",
       " <p class=\"contestants\"><a href=\"http://www.j-archive.com/showplayer.php?player_id=13289\" rel=\"external\">Ashleigh McCord</a>, a marine resource management specialist from Beverly, Massachusetts</p>,\n",
       " <p class=\"contestants\"><a href=\"http://www.j-archive.com/showplayer.php?player_id=13286\" rel=\"external\">Jesse Laymon</a>, a public policy director from Long Island City, New York (whose 1-day cash winnings total $13,000)</p>]"
      ]
     },
     "execution_count": 39,
     "metadata": {},
     "output_type": "execute_result"
    }
   ],
   "source": [
    "# can specify on the class of the page content\n",
    "page_content.find_all(\"p\", class_ = 'contestants') "
   ]
  },
  {
   "cell_type": "code",
   "execution_count": 40,
   "metadata": {},
   "outputs": [],
   "source": [
    "# Review table contents \n",
    "elems = page_content.find_all(lambda tag: tag.name == 'td')\n",
    "\n",
    "# Another way to view this unstructured data \n",
    "#for elem in elems:\n",
    "#    print(elem, end='\\n'*2)\n"
   ]
  },
  {
   "cell_type": "code",
   "execution_count": 41,
   "metadata": {},
   "outputs": [
    {
     "data": {
      "text/plain": [
       "[<td class=\"score_positive\">$5,600</td>,\n",
       " <td class=\"score_positive\">$200</td>,\n",
       " <td class=\"score_positive\">$9,400</td>,\n",
       " <td class=\"score_positive\">$3,400</td>,\n",
       " <td class=\"score_positive\">$15,400</td>,\n",
       " <td class=\"score_positive\">$10,600</td>,\n",
       " <td class=\"score_positive\">$15,000</td>,\n",
       " <td class=\"score_positive\">$30,400</td>,\n",
       " <td class=\"score_positive\">$8,800</td>,\n",
       " <td class=\"score_positive\">$0</td>,\n",
       " <td class=\"score_positive\">$14,400</td>,\n",
       " <td class=\"score_positive\">$10,600</td>,\n",
       " <td class=\"score_positive\">$13,400</td>]"
      ]
     },
     "execution_count": 41,
     "metadata": {},
     "output_type": "execute_result"
    }
   ],
   "source": [
    "# just review scores \n",
    "page_content.find_all(lambda tag: tag.get('class') == ['score_positive'])"
   ]
  },
  {
   "cell_type": "markdown",
   "metadata": {},
   "source": [
    "### 3) Find next page link "
   ]
  },
  {
   "cell_type": "code",
   "execution_count": 42,
   "metadata": {},
   "outputs": [
    {
     "data": {
      "text/plain": [
       "[<a href=\"http://www.j-archive.com\"><img alt=\"J! Archive\" height=\"22\" src=\"http://www.j-archive.com/j-a.gif\" width=\"100\"/></a>,\n",
       " <a href=\"http://www.j-archive.com/showseason.php?season=36\">[current season]</a>,\n",
       " <a href=\"http://www.j-archive.com/showseason.php?season=35\">[last season]</a>,\n",
       " <a href=\"http://www.j-archive.com/listseasons.php\">[all seasons]</a>,\n",
       " <a href=\"http://www.j-archive.com/listprizes.php\">[prizes]</a>,\n",
       " <a href=\"http://www.j-archive.com/wageringcalculator.php\">[wagering calculator]</a>,\n",
       " <a href=\"http://www.j-archive.com/help.php\">[help]</a>,\n",
       " <a href=\"showgame.php?game_id=6622\">[&lt;&lt; previous game]</a>,\n",
       " <a href=\"http://www.j-archive.com/showplayer.php?player_id=13288\" rel=\"external\">Quemars Ahmed</a>,\n",
       " <a href=\"http://www.j-archive.com/showplayer.php?player_id=13289\" rel=\"external\">Ashleigh McCord</a>,\n",
       " <a href=\"http://www.j-archive.com/showplayer.php?player_id=13286\" rel=\"external\">Jesse Laymon</a>,\n",
       " <a href=\"showgame.php?game_id=6651\">[next game &gt;&gt;]</a>,\n",
       " <a href=\"suggestcorrection.php?clue_id=384793\" rel=\"nofollow\" title=\"Suggest a correction for this clue\">30</a>,\n",
       " <a href=\"suggestcorrection.php?clue_id=384774\" rel=\"nofollow\" title=\"Suggest a correction for this clue\">9</a>,\n",
       " <a href=\"suggestcorrection.php?clue_id=384794\" rel=\"nofollow\" title=\"Suggest a correction for this clue\">29</a>,\n",
       " <a href=\"suggestcorrection.php?clue_id=384777\" rel=\"nofollow\" title=\"Suggest a correction for this clue\">10</a>,\n",
       " <a href=\"suggestcorrection.php?clue_id=384785\" rel=\"nofollow\" title=\"Suggest a correction for this clue\">19</a>,\n",
       " <a href=\"suggestcorrection.php?clue_id=384787\" rel=\"nofollow\" title=\"Suggest a correction for this clue\">20</a>,\n",
       " <a href=\"suggestcorrection.php?clue_id=384768\" rel=\"nofollow\" title=\"Suggest a correction for this clue\">3</a>,\n",
       " <a href=\"suggestcorrection.php?clue_id=384775\" rel=\"nofollow\" title=\"Suggest a correction for this clue\">8</a>]"
      ]
     },
     "execution_count": 42,
     "metadata": {},
     "output_type": "execute_result"
    }
   ],
   "source": [
    "# Review hyperlinks <a> tags \n",
    "page_content.find_all(lambda tag: tag.name == 'a')[0:20]"
   ]
  },
  {
   "cell_type": "code",
   "execution_count": 43,
   "metadata": {},
   "outputs": [
    {
     "data": {
      "text/plain": [
       "[<a href=\"showgame.php?game_id=6622\">[&lt;&lt; previous game]</a>]"
      ]
     },
     "execution_count": 43,
     "metadata": {},
     "output_type": "execute_result"
    }
   ],
   "source": [
    "# Can specify on the text of the page contents \n",
    "    # <a href=\"showgame.php?game_id=6158\">[&lt;&lt; previous game]</a>\n",
    "page_content.find_all(lambda tag: tag.name == 'a' and tag.text == \"[<< previous game]\")\n"
   ]
  },
  {
   "cell_type": "code",
   "execution_count": 44,
   "metadata": {},
   "outputs": [
    {
     "name": "stdout",
     "output_type": "stream",
     "text": [
      "[<a href=\"showgame.php?game_id=6622\">[&lt;&lt; previous game]</a>]\n"
     ]
    }
   ],
   "source": [
    "new_game_link = page_content.find_all(lambda tag: tag.name == 'a' and \n",
    "                                                    tag.get('href') and \n",
    "                                                    tag.text == \"[<< previous game]\")\n",
    "print(new_game_link)"
   ]
  },
  {
   "cell_type": "code",
   "execution_count": 45,
   "metadata": {},
   "outputs": [
    {
     "data": {
      "text/plain": [
       "'6622'"
      ]
     },
     "execution_count": 45,
     "metadata": {},
     "output_type": "execute_result"
    }
   ],
   "source": [
    "#[<a href=\"showgame.php?game_id=6388\">[&lt;&lt; previous game]</a>]\n",
    "# WE WANT THE GAME ID ----------^^^^\n",
    "\n",
    "# USE REGEX TO CAPTURE JUST DIGITS, and extract to a string variable [0]\n",
    "re.findall(r'\\d+', str(new_game_link[0]))[0] \n"
   ]
  },
  {
   "cell_type": "code",
   "execution_count": 46,
   "metadata": {},
   "outputs": [
    {
     "data": {
      "text/plain": [
       "'http://www.j-archive.com/showgame.php?game_id=6622'"
      ]
     },
     "execution_count": 46,
     "metadata": {},
     "output_type": "execute_result"
    }
   ],
   "source": [
    "new_game_id = re.findall(r'\\d+', str(new_game_link[0]))[0]\n",
    "\n",
    "# create next page link \n",
    "updated_jeopardy_archive_link = \"http://www.j-archive.com/showgame.php?game_id=\" + str(new_game_id)\n",
    "updated_jeopardy_archive_link"
   ]
  },
  {
   "cell_type": "markdown",
   "metadata": {},
   "source": [
    "### Full Web Scraping Process\n",
    "Start with a recent game and move backwards through time ( Game ID 6623 OR 6389 )\n",
    "http://www.j-archive.com/showgame.php?game_id=6623"
   ]
  },
  {
   "cell_type": "code",
   "execution_count": 47,
   "metadata": {},
   "outputs": [],
   "source": [
    "# Define Function that sets a game id and number of pages to extract from the jeopardy archive \n",
    "def jep_scraper(game_id = 6389, num_pages_to_extract = 300):\n",
    "    \n",
    "    # initialize variables \n",
    "    index = 0\n",
    "    new_game_id = 0\n",
    "    \n",
    "    output = []\n",
    "    error_catalog = []\n",
    "    \n",
    "    archive_link = \"http://www.j-archive.com/showgame.php?game_id=\"\n",
    "    jeopardy_archive_link = archive_link + str(game_id)\n",
    "    \n",
    "    while index < num_pages_to_extract:\n",
    "        # pull page\n",
    "        page_response = requests.get(jeopardy_archive_link, timeout=5) # get page, timeout set to 5 seconds \n",
    "    \n",
    "        # confirm no error with pull \n",
    "        try: \n",
    "            page_response.raise_for_status()\n",
    "            pass\n",
    "        except:\n",
    "            print(\"HTML ERROR CODE: \" + str(page_response.status_code))\n",
    "    \n",
    "        page_content = BeautifulSoup(page_response.content, \"html.parser\")\n",
    "    \n",
    "        # create empty variables to fill \n",
    "        anecdotes = []\n",
    "        final_scores = []\n",
    "        names = []\n",
    "        show_info1 = []\n",
    "        show_info2 = []\n",
    "        show_info3 = []\n",
    "    \n",
    "        #title date \n",
    "        title_date = page_content.find_all('title')[0].text # clean to just date (?)\n",
    "    \n",
    "        # iterate through three contestants\n",
    "        for j in range(0, 3):\n",
    "            #Find all anecdotes for contestants \n",
    "            paragraphs = page_content.find_all(\"p\")[j].text\n",
    "        \n",
    "            # Final all final scores for contestants \n",
    "            try:\n",
    "                table1 = page_content.find_all(lambda tag: tag.name == 'td' and \n",
    "                                           \n",
    "                                           (tag.get('class') == ['score_positive'] \n",
    "                                            or\n",
    "                                            tag.get('class') == ['score_negative'] # some scores can be negative!! See 5913\n",
    "                                           )\n",
    "                                          )[9:12][j].text\n",
    "                pass\n",
    "        \n",
    "            except IndexError:\n",
    "                print(\"Error 1 @ Game ID:\" + str(new_game_id)) # error output - used to locate mismatched fields \n",
    "                error_catalog.append(jeopardy_archive_link)  # store links from archive (typically special events)\n",
    "        \n",
    "            #extract player names and remarks \n",
    "            try:\n",
    "                table2 = page_content.find_all(lambda tag: tag.name == 'td' and \n",
    "                                   tag.get('class') == ['score_player_nickname'])[j].text\n",
    "                pass\n",
    "        \n",
    "            except IndexError:\n",
    "                print(\"Error 2 @ Game ID:\" + str(new_game_id)) # error output - used to locate mismatched fields \n",
    "                error_catalog.append(jeopardy_archive_link)  # store links from archive (typically special events)\n",
    "        \n",
    "            try:\n",
    "                table3 = page_content.find_all(lambda tag: tag.name == 'td' and \n",
    "                                   tag.get('class') == ['score_remarks'])[j].text\n",
    "                pass\n",
    "        \n",
    "            except IndexError:\n",
    "                print(\"Error 3 @ Game ID:\" + str(new_game_id)) # error output - used to locate mismatched fields \n",
    "                error_catalog.append(jeopardy_archive_link)  # store links from archive (typically special events)\n",
    "        \n",
    "        \n",
    "            #append these player details together\n",
    "            anecdotes.append(paragraphs)\n",
    "            final_scores.append(table1)\n",
    "            names.append(table2)\n",
    "            \n",
    "\n",
    "        # reorder and correct data (anecdotes go 2 1 0 / names and scores go 0 1 2 )\n",
    "        show_info1.extend([names[0],anecdotes[2],final_scores[0],title_date])\n",
    "        show_info2.extend([names[1],anecdotes[1],final_scores[1],title_date])\n",
    "        show_info3.extend([names[2],anecdotes[0],final_scores[2],title_date])\n",
    "    \n",
    "        #add to final output file\n",
    "        output.append(show_info1)\n",
    "        output.append(show_info2)\n",
    "        output.append(show_info3)\n",
    "    \n",
    "        #create link to next page\n",
    "        #create previous page number\n",
    "        new_game_id = page_content.find_all(lambda tag: tag.name == 'a' and \n",
    "                                                    tag.get('href') and \n",
    "                                                    tag.text == \"[<< previous game]\")\n",
    "        #print(new_game_id)\n",
    "        #[<a href=\"showgame.php?game_id=6388\">[&lt;&lt; previous game]</a>]\n",
    "        # WE WANT THE GAME ID ----------^^^^\n",
    "\n",
    "        new_game_id = re.findall(r'\\d+', str(new_game_id[0]))[0] # USE REGEX TO CAPTURE JUST DIGITS \n",
    "\n",
    "        # create next page link \n",
    "        jeopardy_archive_link = archive_link + new_game_id\n",
    "        jeopardy_archive_link\n",
    "    \n",
    "        #update iterator \n",
    "        index = index + 1 \n",
    "\n",
    "    #return items \n",
    "    return output, error_catalog \n"
   ]
  },
  {
   "cell_type": "code",
   "execution_count": 48,
   "metadata": {},
   "outputs": [
    {
     "name": "stdout",
     "output_type": "stream",
     "text": [
      "Error 1 @ Game ID:6227\n",
      "Error 1 @ Game ID:6227\n",
      "Error 1 @ Game ID:6227\n",
      "Error 1 @ Game ID:6226\n",
      "Error 3 @ Game ID:6226\n",
      "Error 1 @ Game ID:6226\n",
      "Error 3 @ Game ID:6226\n",
      "Error 1 @ Game ID:6226\n",
      "Error 3 @ Game ID:6226\n",
      "Error 1 @ Game ID:6224\n",
      "Error 1 @ Game ID:6224\n",
      "Error 1 @ Game ID:6224\n",
      "Error 1 @ Game ID:6223\n",
      "Error 3 @ Game ID:6223\n",
      "Error 1 @ Game ID:6223\n",
      "Error 3 @ Game ID:6223\n",
      "Error 1 @ Game ID:6223\n",
      "Error 3 @ Game ID:6223\n"
     ]
    }
   ],
   "source": [
    "# Run the scraper on the predefined results \n",
    "output_table,error_table = jep_scraper(game_id = 6389, num_pages_to_extract = 300)"
   ]
  },
  {
   "cell_type": "code",
   "execution_count": 55,
   "metadata": {},
   "outputs": [],
   "source": [
    "#print(output_table)"
   ]
  },
  {
   "cell_type": "code",
   "execution_count": 50,
   "metadata": {},
   "outputs": [
    {
     "name": "stdout",
     "output_type": "stream",
     "text": [
      "['http://www.j-archive.com/showgame.php?game_id=6227', 'http://www.j-archive.com/showgame.php?game_id=6227', 'http://www.j-archive.com/showgame.php?game_id=6227', 'http://www.j-archive.com/showgame.php?game_id=6226', 'http://www.j-archive.com/showgame.php?game_id=6226', 'http://www.j-archive.com/showgame.php?game_id=6226', 'http://www.j-archive.com/showgame.php?game_id=6226', 'http://www.j-archive.com/showgame.php?game_id=6226', 'http://www.j-archive.com/showgame.php?game_id=6226', 'http://www.j-archive.com/showgame.php?game_id=6224', 'http://www.j-archive.com/showgame.php?game_id=6224', 'http://www.j-archive.com/showgame.php?game_id=6224', 'http://www.j-archive.com/showgame.php?game_id=6223', 'http://www.j-archive.com/showgame.php?game_id=6223', 'http://www.j-archive.com/showgame.php?game_id=6223', 'http://www.j-archive.com/showgame.php?game_id=6223', 'http://www.j-archive.com/showgame.php?game_id=6223', 'http://www.j-archive.com/showgame.php?game_id=6223']\n"
     ]
    }
   ],
   "source": [
    "#print(error_table)"
   ]
  },
  {
   "cell_type": "code",
   "execution_count": 51,
   "metadata": {},
   "outputs": [],
   "source": [
    "#Convert output to a dataframe and prepare for initial cleaning \n",
    "archive = pd.DataFrame.from_records(output_table)\n",
    "archive.columns = [\"nickname\", \"player_details\", \"final_score\", \"show_info\"]\n",
    "\n",
    "# Initialize Field Name\n",
    "archive[\"full_name\"] = \"\"\n",
    "archive[\"occupation\"] = \"\"\n",
    "archive[\"hometown\"] = \"\"\n",
    "archive[\"archive_info\"] = \"\"\n",
    "archive[\"date\"] = \"\""
   ]
  },
  {
   "cell_type": "code",
   "execution_count": 52,
   "metadata": {},
   "outputs": [
    {
     "data": {
      "text/plain": [
       "0      Jason Zuffranieri, a math teacher from Albuque...\n",
       "1      Maggie Lehrman, an editor and writer from Broo...\n",
       "2      Michael Riggs, an educational therapist from T...\n",
       "3      Jason Zuffranieri, a math teacher from Albuque...\n",
       "4      Eric Kaplan, a retired OB-GYN physician from L...\n",
       "                             ...                        \n",
       "895    Randy Mathews, a fragrance specialist from Hou...\n",
       "896    Alyssa Abel, a bookseller from Waupaca, Wisconsin\n",
       "897    Kristin Robbins, an attorney from Red Bank, Ne...\n",
       "898    Kate Jovin, a social worker from Somerville, M...\n",
       "899    Rex Moroux, a commercial real estate broker fr...\n",
       "Name: player_details, Length: 900, dtype: object"
      ]
     },
     "execution_count": 52,
     "metadata": {},
     "output_type": "execute_result"
    }
   ],
   "source": [
    "archive[\"player_details\"]"
   ]
  },
  {
   "cell_type": "code",
   "execution_count": 53,
   "metadata": {},
   "outputs": [],
   "source": [
    "# Take the archive details and split them into usable contents! \n",
    "for i in range(0,len(archive)):\n",
    "    \n",
    "    # extract player details \n",
    "    archive.at[i,\"full_name\"] = archive[\"player_details\"].iloc[i].split(\",\")[0]\n",
    "    archive.at[i,\"occupation\"] = archive[\"player_details\"].iloc[i].split(\",\")[1].split(\"from\")[0].strip()\n",
    "    archive.at[i,\"hometown\"] = archive[\"player_details\"].iloc[i].split(\"from\")[1].split(\"(\")[0].strip()\n",
    "        \n",
    "    # extra show info \n",
    "    archive.at[i,\"archive_info\"] = archive[\"show_info\"].iloc[i].split(\", aired\")[0].strip()\n",
    "    archive.at[i,\"date\"] = archive[\"show_info\"].iloc[i].split(\", aired\")[1].strip()\n"
   ]
  },
  {
   "cell_type": "code",
   "execution_count": 54,
   "metadata": {},
   "outputs": [
    {
     "data": {
      "text/html": [
       "<div>\n",
       "<style scoped>\n",
       "    .dataframe tbody tr th:only-of-type {\n",
       "        vertical-align: middle;\n",
       "    }\n",
       "\n",
       "    .dataframe tbody tr th {\n",
       "        vertical-align: top;\n",
       "    }\n",
       "\n",
       "    .dataframe thead th {\n",
       "        text-align: right;\n",
       "    }\n",
       "</style>\n",
       "<table border=\"1\" class=\"dataframe\">\n",
       "  <thead>\n",
       "    <tr style=\"text-align: right;\">\n",
       "      <th></th>\n",
       "      <th>nickname</th>\n",
       "      <th>player_details</th>\n",
       "      <th>final_score</th>\n",
       "      <th>show_info</th>\n",
       "      <th>full_name</th>\n",
       "      <th>occupation</th>\n",
       "      <th>hometown</th>\n",
       "      <th>archive_info</th>\n",
       "      <th>date</th>\n",
       "    </tr>\n",
       "  </thead>\n",
       "  <tbody>\n",
       "    <tr>\n",
       "      <th>0</th>\n",
       "      <td>Jason</td>\n",
       "      <td>Jason Zuffranieri, a math teacher from Albuque...</td>\n",
       "      <td>$27,600</td>\n",
       "      <td>J! Archive - Show #8045, aired 2019-07-26</td>\n",
       "      <td>Jason Zuffranieri</td>\n",
       "      <td>a math teacher</td>\n",
       "      <td>Albuquerque, New Mexico</td>\n",
       "      <td>J! Archive - Show #8045</td>\n",
       "      <td>2019-07-26</td>\n",
       "    </tr>\n",
       "    <tr>\n",
       "      <th>1</th>\n",
       "      <td>Maggie</td>\n",
       "      <td>Maggie Lehrman, an editor and writer from Broo...</td>\n",
       "      <td>$0</td>\n",
       "      <td>J! Archive - Show #8045, aired 2019-07-26</td>\n",
       "      <td>Maggie Lehrman</td>\n",
       "      <td>an editor and writer</td>\n",
       "      <td>Brooklyn, New York</td>\n",
       "      <td>J! Archive - Show #8045</td>\n",
       "      <td>2019-07-26</td>\n",
       "    </tr>\n",
       "    <tr>\n",
       "      <th>2</th>\n",
       "      <td>Michael</td>\n",
       "      <td>Michael Riggs, an educational therapist from T...</td>\n",
       "      <td>$2</td>\n",
       "      <td>J! Archive - Show #8045, aired 2019-07-26</td>\n",
       "      <td>Michael Riggs</td>\n",
       "      <td>an educational therapist</td>\n",
       "      <td>Tustin, California</td>\n",
       "      <td>J! Archive - Show #8045</td>\n",
       "      <td>2019-07-26</td>\n",
       "    </tr>\n",
       "    <tr>\n",
       "      <th>3</th>\n",
       "      <td>Jason</td>\n",
       "      <td>Jason Zuffranieri, a math teacher from Albuque...</td>\n",
       "      <td>$4,400</td>\n",
       "      <td>J! Archive - Show #8044, aired 2019-07-25</td>\n",
       "      <td>Jason Zuffranieri</td>\n",
       "      <td>a math teacher</td>\n",
       "      <td>Albuquerque, New Mexico</td>\n",
       "      <td>J! Archive - Show #8044</td>\n",
       "      <td>2019-07-25</td>\n",
       "    </tr>\n",
       "    <tr>\n",
       "      <th>4</th>\n",
       "      <td>Eric</td>\n",
       "      <td>Eric Kaplan, a retired OB-GYN physician from L...</td>\n",
       "      <td>$0</td>\n",
       "      <td>J! Archive - Show #8044, aired 2019-07-25</td>\n",
       "      <td>Eric Kaplan</td>\n",
       "      <td>a retired OB-GYN physician</td>\n",
       "      <td>Long Beach, California</td>\n",
       "      <td>J! Archive - Show #8044</td>\n",
       "      <td>2019-07-25</td>\n",
       "    </tr>\n",
       "    <tr>\n",
       "      <th>5</th>\n",
       "      <td>Shari</td>\n",
       "      <td>Shari Meyer, a high school English teacher fro...</td>\n",
       "      <td>$0</td>\n",
       "      <td>J! Archive - Show #8044, aired 2019-07-25</td>\n",
       "      <td>Shari Meyer</td>\n",
       "      <td>a high school English teacher</td>\n",
       "      <td>Somerville, Massachusetts</td>\n",
       "      <td>J! Archive - Show #8044</td>\n",
       "      <td>2019-07-25</td>\n",
       "    </tr>\n",
       "    <tr>\n",
       "      <th>6</th>\n",
       "      <td>Jason</td>\n",
       "      <td>Jason Zuffranieri, a math teacher from Albuque...</td>\n",
       "      <td>$30,000</td>\n",
       "      <td>J! Archive - Show #8043, aired 2019-07-24</td>\n",
       "      <td>Jason Zuffranieri</td>\n",
       "      <td>a math teacher</td>\n",
       "      <td>Albuquerque, New Mexico</td>\n",
       "      <td>J! Archive - Show #8043</td>\n",
       "      <td>2019-07-24</td>\n",
       "    </tr>\n",
       "    <tr>\n",
       "      <th>7</th>\n",
       "      <td>Michelle</td>\n",
       "      <td>Michelle Bruck, an attorney from Levittown, Pe...</td>\n",
       "      <td>$3,000</td>\n",
       "      <td>J! Archive - Show #8043, aired 2019-07-24</td>\n",
       "      <td>Michelle Bruck</td>\n",
       "      <td>an attorney</td>\n",
       "      <td>Levittown, Pennsylvania</td>\n",
       "      <td>J! Archive - Show #8043</td>\n",
       "      <td>2019-07-24</td>\n",
       "    </tr>\n",
       "    <tr>\n",
       "      <th>8</th>\n",
       "      <td>Corin</td>\n",
       "      <td>Corin Purifoy, a fiber artist from Milwaukee, ...</td>\n",
       "      <td>$6,100</td>\n",
       "      <td>J! Archive - Show #8043, aired 2019-07-24</td>\n",
       "      <td>Corin Purifoy</td>\n",
       "      <td>a fiber artist</td>\n",
       "      <td>Milwaukee, Wisconsin</td>\n",
       "      <td>J! Archive - Show #8043</td>\n",
       "      <td>2019-07-24</td>\n",
       "    </tr>\n",
       "    <tr>\n",
       "      <th>9</th>\n",
       "      <td>Jason</td>\n",
       "      <td>Jason Zuffranieri, a math teacher from Albuque...</td>\n",
       "      <td>$30,100</td>\n",
       "      <td>J! Archive - Show #8042, aired 2019-07-23</td>\n",
       "      <td>Jason Zuffranieri</td>\n",
       "      <td>a math teacher</td>\n",
       "      <td>Albuquerque, New Mexico</td>\n",
       "      <td>J! Archive - Show #8042</td>\n",
       "      <td>2019-07-23</td>\n",
       "    </tr>\n",
       "  </tbody>\n",
       "</table>\n",
       "</div>"
      ],
      "text/plain": [
       "   nickname                                     player_details final_score  \\\n",
       "0     Jason  Jason Zuffranieri, a math teacher from Albuque...     $27,600   \n",
       "1    Maggie  Maggie Lehrman, an editor and writer from Broo...          $0   \n",
       "2   Michael  Michael Riggs, an educational therapist from T...          $2   \n",
       "3     Jason  Jason Zuffranieri, a math teacher from Albuque...      $4,400   \n",
       "4      Eric  Eric Kaplan, a retired OB-GYN physician from L...          $0   \n",
       "5     Shari  Shari Meyer, a high school English teacher fro...          $0   \n",
       "6     Jason  Jason Zuffranieri, a math teacher from Albuque...     $30,000   \n",
       "7  Michelle  Michelle Bruck, an attorney from Levittown, Pe...      $3,000   \n",
       "8     Corin  Corin Purifoy, a fiber artist from Milwaukee, ...      $6,100   \n",
       "9     Jason  Jason Zuffranieri, a math teacher from Albuque...     $30,100   \n",
       "\n",
       "                                   show_info          full_name  \\\n",
       "0  J! Archive - Show #8045, aired 2019-07-26  Jason Zuffranieri   \n",
       "1  J! Archive - Show #8045, aired 2019-07-26     Maggie Lehrman   \n",
       "2  J! Archive - Show #8045, aired 2019-07-26      Michael Riggs   \n",
       "3  J! Archive - Show #8044, aired 2019-07-25  Jason Zuffranieri   \n",
       "4  J! Archive - Show #8044, aired 2019-07-25        Eric Kaplan   \n",
       "5  J! Archive - Show #8044, aired 2019-07-25        Shari Meyer   \n",
       "6  J! Archive - Show #8043, aired 2019-07-24  Jason Zuffranieri   \n",
       "7  J! Archive - Show #8043, aired 2019-07-24     Michelle Bruck   \n",
       "8  J! Archive - Show #8043, aired 2019-07-24      Corin Purifoy   \n",
       "9  J! Archive - Show #8042, aired 2019-07-23  Jason Zuffranieri   \n",
       "\n",
       "                      occupation                   hometown  \\\n",
       "0                 a math teacher    Albuquerque, New Mexico   \n",
       "1           an editor and writer         Brooklyn, New York   \n",
       "2       an educational therapist         Tustin, California   \n",
       "3                 a math teacher    Albuquerque, New Mexico   \n",
       "4     a retired OB-GYN physician     Long Beach, California   \n",
       "5  a high school English teacher  Somerville, Massachusetts   \n",
       "6                 a math teacher    Albuquerque, New Mexico   \n",
       "7                    an attorney    Levittown, Pennsylvania   \n",
       "8                 a fiber artist       Milwaukee, Wisconsin   \n",
       "9                 a math teacher    Albuquerque, New Mexico   \n",
       "\n",
       "              archive_info        date  \n",
       "0  J! Archive - Show #8045  2019-07-26  \n",
       "1  J! Archive - Show #8045  2019-07-26  \n",
       "2  J! Archive - Show #8045  2019-07-26  \n",
       "3  J! Archive - Show #8044  2019-07-25  \n",
       "4  J! Archive - Show #8044  2019-07-25  \n",
       "5  J! Archive - Show #8044  2019-07-25  \n",
       "6  J! Archive - Show #8043  2019-07-24  \n",
       "7  J! Archive - Show #8043  2019-07-24  \n",
       "8  J! Archive - Show #8043  2019-07-24  \n",
       "9  J! Archive - Show #8042  2019-07-23  "
      ]
     },
     "execution_count": 54,
     "metadata": {},
     "output_type": "execute_result"
    }
   ],
   "source": [
    "archive.head(10)"
   ]
  },
  {
   "cell_type": "code",
   "execution_count": null,
   "metadata": {},
   "outputs": [],
   "source": [
    "# Clean date\n",
    "archive['date'].replace(regex=True,inplace=True,to_replace=r':',value=r'')\n",
    "archive['date'] = pd.to_datetime(archive['date'], errors='coerce')\n",
    "archive.head(5)"
   ]
  },
  {
   "cell_type": "code",
   "execution_count": null,
   "metadata": {},
   "outputs": [],
   "source": [
    "# Save your data\n",
    "# archive.to_csv('../Data/jeopardy_archive_data.csv', index = None, header=True) #Don't forget to add '.csv' at the end of the path!"
   ]
  }
 ],
 "metadata": {
  "kernelspec": {
   "display_name": "Python 3",
   "language": "python",
   "name": "python3"
  },
  "language_info": {
   "codemirror_mode": {
    "name": "ipython",
    "version": 3
   },
   "file_extension": ".py",
   "mimetype": "text/x-python",
   "name": "python",
   "nbconvert_exporter": "python",
   "pygments_lexer": "ipython3",
   "version": "3.7.6"
  }
 },
 "nbformat": 4,
 "nbformat_minor": 2
}
